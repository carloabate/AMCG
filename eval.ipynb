{
 "cells": [
  {
   "cell_type": "code",
   "execution_count": null,
   "metadata": {},
   "outputs": [],
   "source": [
    "# execute this cell first\n",
    "# used to make the colors consistent across all plots\n",
    "my_palette = ['#3C91E6', '#C03221', '#1B9D78', '#C1839F', '#020402']"
   ]
  },
  {
   "cell_type": "markdown",
   "metadata": {},
   "source": [
    "The following cells have been used to generate the UN persistence plot"
   ]
  },
  {
   "cell_type": "code",
   "execution_count": null,
   "metadata": {},
   "outputs": [],
   "source": [
    "import random\n",
    "from amcg_utils.eval_utils import get_un_evaluation_df\n",
    "import pandas as pd\n",
    "import matplotlib.pyplot as plt\n",
    "import seaborn as sns"
   ]
  },
  {
   "cell_type": "code",
   "execution_count": null,
   "metadata": {},
   "outputs": [],
   "source": [
    "#create UN summary dataframes\n",
    "df_1 = get_un_evaluation_df(\"data/orig_smiles/qm9_clean.txt\", \"data/sampled_smiles/qm9_vaelike.txt\", 2000)\n",
    "df_2 = get_un_evaluation_df(\"data/orig_smiles/qm9_clean.txt\", \"data/sampled_smiles/qm9_full.txt\", 2000)\n",
    "df_3 = get_un_evaluation_df(\"data/orig_smiles/qm9_clean.txt\", \"data/sampled_smiles/qm9_diag.txt\", 2000)\n",
    "df_4 = get_un_evaluation_df(\"data/orig_smiles/qm9_clean.txt\", \"data/sampled_smiles/qm9_diag_2.txt\", 2000)"
   ]
  },
  {
   "cell_type": "code",
   "execution_count": null,
   "metadata": {},
   "outputs": [],
   "source": [
    "#show plots for different metrics\n",
    "\n",
    "LEGENDS = ['VAE-like', 'GMM-F', 'GMM-D1','GMM-D2']\n",
    "RESULTS_FOLDER=\"eval_results\"\n",
    "dizz = {'Uniqueness': 'uniqueness', 'Novelty':'novelty', 'Uniqueness * Novelty': 'un', 'Non Unique Novelty': 'novelty_nu'}\n",
    "\n",
    "df = pd.DataFrame()\n",
    "\n",
    "for column in df_1.columns:\n",
    "    fig = plt.figure(figsize=(10,5))\n",
    "    for i in range(4):\n",
    "        col = eval(\"df_\" + str(i+1) + \"['\" + column + \"']\")\n",
    "        df[LEGENDS[i]] = col\n",
    "    ax = sns.lineplot(df, dashes=False, palette=my_palette)\n",
    "    ax.set_xlabel('# Samples / 2000', fontsize=20)\n",
    "    ax.set_ylabel(column, fontsize=20)\n",
    "    plt.legend(prop={'family': 'monospace', 'size':14})\n",
    "    plt.show()\n",
    "    "
   ]
  },
  {
   "cell_type": "markdown",
   "metadata": {},
   "source": [
    "Here we calculate and visualize molecular properties"
   ]
  },
  {
   "cell_type": "code",
   "execution_count": null,
   "metadata": {},
   "outputs": [],
   "source": [
    "from amcg_utils.gen_utils import read_lines_list\n",
    "from amcg_utils.eval_utils import get_un_smiles\n",
    "from amcg_utils.mol_prop_utils import get_diversity, get_props_df_from_list, process_dataframe"
   ]
  },
  {
   "cell_type": "code",
   "execution_count": null,
   "metadata": {},
   "outputs": [],
   "source": [
    "#extract random samples from the qm9 dataset\n",
    "qm9 = random.sample(read_lines_list(\"orig_smiles/qm9_clean_smiles.txt\"), 10000)\n",
    "\n",
    "#read the samples from the different priors\n",
    "full_samples_1 = read_lines_list(\"sampled_smiles/qm9_vaelike.txt\")\n",
    "full_samples_2 = read_lines_list(\"sampled_smiles/qm9_full.txt\")\n",
    "full_samples_3 = read_lines_list(\"sampled_smiles/qm9_diag_max.txt\")\n",
    "full_samples_4 = read_lines_list(\"sampled_smiles/qm9_diag_max_5.txt\")\n",
    "\n",
    "#extract unique and novel samples (for the different priors)\n",
    "un_1 = get_un_smiles(full_samples_1, qm9)\n",
    "un_2 = get_un_smiles(full_samples_2, qm9)\n",
    "un_3 = get_un_smiles(full_samples_3, qm9)\n",
    "un_4 = get_un_smiles(full_samples_4, qm9)"
   ]
  },
  {
   "cell_type": "code",
   "execution_count": 2,
   "metadata": {},
   "outputs": [],
   "source": [
    "# get tanimoto similarity for the different priors\n",
    "diversities = {}\n",
    "diversities['qm9'] = get_diversity(qm9)\n",
    "diversities['un_conf_1'] = get_diversity(un_1)\n",
    "diversities['un_conf_2'] = get_diversity(un_2)\n",
    "diversities['un_conf_3'] = get_diversity(un_3)\n",
    "diversities['un_conf_4'] = get_diversity(un_4)"
   ]
  },
  {
   "cell_type": "code",
   "execution_count": null,
   "metadata": {},
   "outputs": [],
   "source": [
    "#extract properties for the different priors\n",
    "prop_df_0 = get_props_df_from_list(qm9)\n",
    "prop_df_1 = get_props_df_from_list(un_1)\n",
    "prop_df_2 = get_props_df_from_list(un_2)\n",
    "prop_df_3 = get_props_df_from_list(un_3)\n",
    "prop_df_4 = get_props_df_from_list(un_4)"
   ]
  },
  {
   "cell_type": "code",
   "execution_count": null,
   "metadata": {},
   "outputs": [],
   "source": [
    "palette=[my_palette[-1]] + my_palette\n",
    "LEGENDS = ['QM9', 'VAE-like', 'GMM-F', 'GMM-D1','GMM-D2']\n",
    "\n",
    "COLUMNS = ['logp','qed','sas','heavymolwt']\n",
    "label_dizz = {'logp': 'logP', 'qed':'QED', 'sas': 'SA Score', 'nps': 'NP Score', 'num_heavy_atoms': '# heavy atoms', 'heavymolwt': \"Heavy mol. weight\", 'plogp': \"Penalized logP\"}\n",
    "\n",
    "BW_ADJUST = 1.5 #under 1 less bins\n",
    "\n",
    "df = pd.DataFrame()\n",
    "fig, axs = plt.subplots(2, 2, figsize=(12,10))\n",
    "for j, column in enumerate(COLUMNS):\n",
    "    for i, label in enumerate(LEGENDS):\n",
    "        linewidth = 1\n",
    "        linestyle = '-'\n",
    "        if i == 0:\n",
    "            linestyle = 'dashed'\n",
    "            linewidth = linewidth + 1\n",
    "        col = eval(\"prop_df_\" + str(i) + \"['\" + column + \"']\")\n",
    "        sns.kdeplot(col, fill=False, color=palette[i], ax=axs[j//2][j%2], bw_adjust=BW_ADJUST, label=label, linewidth=linewidth, linestyle=linestyle)\n",
    "    axs[j//2][j%2].set_xlabel(label_dizz[column], fontsize=20)\n",
    "    axs[j//2][j%2].set_ylabel('Density', fontsize=20)\n",
    "    axs[j//2][j%2].legend(prop={'family': 'monospace', 'size':12})\n",
    " \n",
    "plt.show()"
   ]
  },
  {
   "cell_type": "code",
   "execution_count": null,
   "metadata": {},
   "outputs": [],
   "source": [
    "df_list = [prop_df_0, prop_df_1, prop_df_2, prop_df_3, prop_df_4]\n",
    "LEGENDS = ['QM9', 'VAE-like', 'GMM-F', 'GMM-D1','GMM-D2']\n",
    "rows = []\n",
    "summary = pd.DataFrame()\n",
    "for df, legend in zip(df_list, LEGENDS):\n",
    "    sub_df = df.iloc[:,:4].describe()\n",
    "    rows.append(process_dataframe(sub_df))\n",
    "\n",
    "summary = pd.DataFrame(rows, index=LEGENDS)"
   ]
  }
 ],
 "metadata": {
  "kernelspec": {
   "display_name": "torch_2",
   "language": "python",
   "name": "python3"
  },
  "language_info": {
   "codemirror_mode": {
    "name": "ipython",
    "version": 3
   },
   "file_extension": ".py",
   "mimetype": "text/x-python",
   "name": "python",
   "nbconvert_exporter": "python",
   "pygments_lexer": "ipython3",
   "version": "3.10.12"
  }
 },
 "nbformat": 4,
 "nbformat_minor": 2
}
